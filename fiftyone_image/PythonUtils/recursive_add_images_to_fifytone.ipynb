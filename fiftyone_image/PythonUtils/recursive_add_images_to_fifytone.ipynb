{
 "cells": [
  {
   "cell_type": "markdown",
   "id": "4a653d0a",
   "metadata": {},
   "source": [
    "# Create a FIFTYONE dataset from recursively adding images from a folder"
   ]
  },
  {
   "cell_type": "markdown",
   "id": "8cb91a39-41e5-40a6-8219-bd97f0deb69c",
   "metadata": {},
   "source": [
    "source : https://docs.voxel51.com/user_guide/dataset_creation/index.html#loading-images\n",
    "\n",
    "function `from_images_patt` does not perform a fully recursive (with subfolders), even with patterns such as `\"/home/local_images/MySubfolder/**/*.png\"`. That is why you can perform your glob yourself, convert to list, and pass to function `from_images`"
   ]
  },
  {
   "cell_type": "code",
   "execution_count": 8,
   "id": "5a29c99d-2165-4422-b6b9-766c86e8839f",
   "metadata": {},
   "outputs": [],
   "source": [
    "import fiftyone as fo\n",
    "from pathlib import Path"
   ]
  },
  {
   "cell_type": "code",
   "execution_count": 9,
   "id": "03c5354d-31a6-4262-bdab-8451be7c7f38",
   "metadata": {},
   "outputs": [
    {
     "name": "stdout",
     "output_type": "stream",
     "text": [
      "Found 747 image file paths\n"
     ]
    }
   ],
   "source": [
    "image_files_str = [str(p) for p in list(Path(\"/home/local_images/my_dataset_folder\").rglob(\"*.png\"))]\n",
    "print(f\"Found {len(image_files_str)} image file paths\")"
   ]
  },
  {
   "cell_type": "code",
   "execution_count": 10,
   "id": "9975e2bd-2f70-4979-b438-773685c5d92f",
   "metadata": {},
   "outputs": [
    {
     "name": "stdout",
     "output_type": "stream",
     "text": [
      " 100% |█████████████████| 747/747 [177.2ms elapsed, 0s remaining, 4.2K samples/s]     \n"
     ]
    }
   ],
   "source": [
    "dataset = fo.Dataset.from_images(image_files_str, name=\"my_dataset_name\", persistent=True, progress=True)"
   ]
  }
 ],
 "metadata": {
  "kernelspec": {
   "display_name": "Python 3 (ipykernel)",
   "language": "python",
   "name": "python3"
  },
  "language_info": {
   "codemirror_mode": {
    "name": "ipython",
    "version": 3
   },
   "file_extension": ".py",
   "mimetype": "text/x-python",
   "name": "python",
   "nbconvert_exporter": "python",
   "pygments_lexer": "ipython3",
   "version": "3.11.11"
  }
 },
 "nbformat": 4,
 "nbformat_minor": 5
}
