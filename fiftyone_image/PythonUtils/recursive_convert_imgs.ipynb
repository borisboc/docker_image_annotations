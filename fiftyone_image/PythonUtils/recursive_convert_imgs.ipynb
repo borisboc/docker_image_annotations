{
 "cells": [
  {
   "cell_type": "markdown",
   "id": "f23a137b-93f1-485f-860f-e386d2513bcb",
   "metadata": {},
   "source": [
    "# Recursive convert images\n",
    "\n",
    "Usefull when you have a bunch of new images (e.g. to create a new dataset, or add samples), but the you need to preprocess them. E.g. change file format"
   ]
  },
  {
   "cell_type": "markdown",
   "id": "c78a2a4a-00bc-4a4d-a436-23d41d3374f8",
   "metadata": {},
   "source": [
    "## Changing image file format"
   ]
  },
  {
   "cell_type": "code",
   "execution_count": 3,
   "id": "34162c48-bd32-41c5-9b4c-55ad27ad3a84",
   "metadata": {},
   "outputs": [],
   "source": [
    "from img_conversion import recursive_change_image_type\n",
    "from pathlib import Path"
   ]
  },
  {
   "cell_type": "markdown",
   "id": "5862e730-10c1-4027-ad3d-f4503cca26b2",
   "metadata": {},
   "source": [
    "Converting from bmp to png (to save some disk space, looselessly)."
   ]
  },
  {
   "cell_type": "code",
   "execution_count": 4,
   "id": "8cd4c78a-f9f8-4367-9b82-887f48ffddd4",
   "metadata": {},
   "outputs": [
    {
     "name": "stderr",
     "output_type": "stream",
     "text": [
      "100%|█████████████████████████████████████████████████████████████████████████████████████████████████████| 714/714 [07:28<00:00,  1.59it/s]\n"
     ]
    }
   ],
   "source": [
    "errors = recursive_change_image_type(Path(\"/path/to/img/folder\"), img_glob=\"*.bmp\", new_ext=\".png\", delete_file=True)"
   ]
  },
  {
   "cell_type": "code",
   "execution_count": 5,
   "id": "69292aea-cb91-487f-9c55-9825fafaee77",
   "metadata": {},
   "outputs": [
    {
     "name": "stdout",
     "output_type": "stream",
     "text": [
      "[]\n"
     ]
    }
   ],
   "source": [
    "print(errors)"
   ]
  }
 ],
 "metadata": {
  "kernelspec": {
   "display_name": "Python 3 (ipykernel)",
   "language": "python",
   "name": "python3"
  },
  "language_info": {
   "codemirror_mode": {
    "name": "ipython",
    "version": 3
   },
   "file_extension": ".py",
   "mimetype": "text/x-python",
   "name": "python",
   "nbconvert_exporter": "python",
   "pygments_lexer": "ipython3",
   "version": "3.11.11"
  }
 },
 "nbformat": 4,
 "nbformat_minor": 5
}
