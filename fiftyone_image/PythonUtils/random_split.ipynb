{
 "cells": [
  {
   "cell_type": "markdown",
   "id": "dcf411ba-2673-4f73-bbe7-6223d56d37af",
   "metadata": {},
   "source": [
    "# Random split your dataset"
   ]
  },
  {
   "cell_type": "markdown",
   "id": "8293f329-861a-4cea-a739-d427baf98aad",
   "metadata": {},
   "source": [
    "You have to create a view called **SplitMe** where you have selected the samples to be split."
   ]
  },
  {
   "cell_type": "code",
   "execution_count": null,
   "id": "52a9bfd2-1c09-4553-bfb9-66cde60a813b",
   "metadata": {},
   "outputs": [],
   "source": [
    "import fiftyone as fo\n",
    "import fiftyone.utils.random as four"
   ]
  },
  {
   "cell_type": "code",
   "execution_count": null,
   "id": "71f48193-cead-4907-bf6c-0b3362a4884f",
   "metadata": {},
   "outputs": [],
   "source": [
    "dataset = fo.load_dataset(\"YourDatasetNameHere\")\n",
    "dataset.persistent = True"
   ]
  },
  {
   "cell_type": "code",
   "execution_count": null,
   "id": "841bf6f0-3111-4d46-a343-36e2efba5b09",
   "metadata": {},
   "outputs": [],
   "source": [
    "split_me_view = dataset.load_saved_view(\"SplitMe\")"
   ]
  },
  {
   "cell_type": "markdown",
   "id": "9af455d2-d11b-4358-82ab-c171818d6ab5",
   "metadata": {},
   "source": [
    "Fine tune the split ratio in the dict bellow"
   ]
  },
  {
   "cell_type": "code",
   "execution_count": null,
   "id": "4626af60-c1b6-44cd-b1ee-36f3df6fcb7d",
   "metadata": {},
   "outputs": [],
   "source": [
    "four.random_split(split_me_view, {\"train\": 0.7, \"test\": 0.2, \"val\": 0.1})"
   ]
  }
 ],
 "metadata": {
  "kernelspec": {
   "display_name": "Python 3 (ipykernel)",
   "language": "python",
   "name": "python3"
  },
  "language_info": {
   "codemirror_mode": {
    "name": "ipython",
    "version": 3
   },
   "file_extension": ".py",
   "mimetype": "text/x-python",
   "name": "python",
   "nbconvert_exporter": "python",
   "pygments_lexer": "ipython3",
   "version": "3.11.11"
  }
 },
 "nbformat": 4,
 "nbformat_minor": 5
}
