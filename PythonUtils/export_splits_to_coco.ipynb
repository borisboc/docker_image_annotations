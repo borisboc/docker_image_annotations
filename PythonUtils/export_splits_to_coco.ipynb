{
 "cells": [
  {
   "cell_type": "markdown",
   "id": "c4fd5af9-d9d6-4d63-8f28-c54d52d6ef3a",
   "metadata": {},
   "source": [
    "# Export all your splits to COCO json format"
   ]
  },
  {
   "cell_type": "code",
   "execution_count": null,
   "id": "40b6482f-322c-4405-bdab-369a3335d894",
   "metadata": {},
   "outputs": [],
   "source": [
    "import fiftyone as fo\n",
    "from pathlib import Path\n",
    "import shutil"
   ]
  },
  {
   "cell_type": "code",
   "execution_count": null,
   "id": "f329357d-fb13-45b3-a195-6518739c9bf9",
   "metadata": {},
   "outputs": [],
   "source": [
    "dataset = fo.load_dataset(\"YourDatasetNameHere\")"
   ]
  },
  {
   "cell_type": "code",
   "execution_count": null,
   "id": "a11259d5-6d4d-4499-a08f-286652dce6e5",
   "metadata": {},
   "outputs": [],
   "source": [
    "def export_train_val_test(output_folder:Path, dataset):\n",
    "    if not output_folder.exists():\n",
    "        output_folder.mkdir(parents=True)\n",
    "    else:\n",
    "        shutil.rmtree(output_folder)\n",
    "    for split in [\"train\", \"test\", \"val\"]:\n",
    "        split_view = dataset.match_tags(split)\n",
    "        if len(split_view) == 0 : \n",
    "            continue\n",
    "        split_view.export(\n",
    "            export_dir=str(output_folder),\n",
    "            data_path = str(output_folder.joinpath(split)),\n",
    "            labels_path = str(output_folder.joinpath(split + \".json\")),\n",
    "            dataset_type=fo.types.COCODetectionDataset,\n",
    "        )"
   ]
  },
  {
   "cell_type": "code",
   "execution_count": null,
   "id": "7ad415d7-a410-4198-be34-c0f105206ff0",
   "metadata": {},
   "outputs": [],
   "source": [
    "export_train_val_test(Path(\"/home/local_images/exports\"), dataset)"
   ]
  }
 ],
 "metadata": {
  "kernelspec": {
   "display_name": "Python 3 (ipykernel)",
   "language": "python",
   "name": "python3"
  },
  "language_info": {
   "codemirror_mode": {
    "name": "ipython",
    "version": 3
   },
   "file_extension": ".py",
   "mimetype": "text/x-python",
   "name": "python",
   "nbconvert_exporter": "python",
   "pygments_lexer": "ipython3",
   "version": "3.11.11"
  }
 },
 "nbformat": 4,
 "nbformat_minor": 5
}
