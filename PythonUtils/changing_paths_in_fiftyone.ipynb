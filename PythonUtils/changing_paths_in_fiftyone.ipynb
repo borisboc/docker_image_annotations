{
 "cells": [
  {
   "cell_type": "markdown",
   "id": "feb2b46a-a326-488c-be2d-2e1eee1f8904",
   "metadata": {},
   "source": [
    "# Changing paths (filepath, thumbnail path) in a fiftyone dataset"
   ]
  },
  {
   "cell_type": "markdown",
   "id": "5a727670-2b23-4869-8e8d-10bd9fde3daf",
   "metadata": {},
   "source": [
    "You often move your images ? And thumbnails ? You work on several computers with different folder architecture (e.g. windows VS linux) ?\n",
    "In such cases, here are some proposals / remarks :\n",
    " * mount / bind your image trunk folder always the same way **inside a container**. E.g. adding this argument `-v PATH/TO/TRUNK/FOLDER:/home/local_images` to your container run.\n",
    " * run the codes in the bellow notebook\n",
    " * using environement variables within the samples paths is currently not feasible (august 2025)\n",
    " * any suggestions ? "
   ]
  },
  {
   "cell_type": "markdown",
   "id": "c7f330df-8b22-4144-9260-f17f46624492",
   "metadata": {},
   "source": [
    "## Changing filepath path\n",
    "\n",
    "2 ways :\n",
    " * calling `change_all_filepath_paths.py` within the CLI\n",
    " * calling function `change_all_strs_and_paths` in a python script"
   ]
  },
  {
   "cell_type": "markdown",
   "id": "a3104301-3f9c-4cda-abd4-c5c96463047c",
   "metadata": {},
   "source": [
    "### Calling `change_all_filepath_paths.py`\n",
    "\n",
    "run the command bellow. "
   ]
  },
  {
   "cell_type": "code",
   "execution_count": null,
   "id": "d4e3a5cc-2d6c-444f-bf3e-01e12a3088dd",
   "metadata": {},
   "outputs": [],
   "source": [
    "!python change_all_filepath_paths.py DATASET_NAME OLD_PATH NEW_PATH"
   ]
  },
  {
   "cell_type": "markdown",
   "id": "a84cd52e-046f-4a59-b5bf-b93b1aa2965e",
   "metadata": {},
   "source": [
    "### Calling `change_all_strs_and_paths`"
   ]
  },
  {
   "cell_type": "code",
   "execution_count": null,
   "id": "d8dfbcea-1783-4719-abfa-9d1fcf106bf5",
   "metadata": {},
   "outputs": [],
   "source": [
    "from change_all_strs_and_paths import change_all_strs_and_paths\n",
    "\n",
    "dataset_name = \"MY_DATASET_NAME\"\n",
    "old_path = \"/home/local_images/\"\n",
    "new_path =\"/home/local_images/MYPROJECT/\"\n",
    "filepath_attribute =\"filepath\"\n",
    "\n",
    "change_all_strs_and_paths(dataset_name, old_path, new_path, str_or_path_attribute=filepath_attribute)"
   ]
  },
  {
   "cell_type": "markdown",
   "id": "b1c4bfee-68fb-4f61-bf0b-299fe09b2bbd",
   "metadata": {},
   "source": [
    "## Changing thumbnail path\n",
    "\n",
    "2 ways :\n",
    " * calling `change_all_thumbnails_paths.py` within the CLI\n",
    " * calling function `change_all_strs_and_paths` in a python script"
   ]
  },
  {
   "cell_type": "markdown",
   "id": "b67a17c4-2a8a-4e4a-adc1-1158a344a767",
   "metadata": {},
   "source": [
    "### Calling `change_all_thumbnails_paths.py`\n",
    "\n",
    "run the command bellow. "
   ]
  },
  {
   "cell_type": "code",
   "execution_count": null,
   "id": "7b034e10-737f-44e2-9c8a-00e80ef85a50",
   "metadata": {},
   "outputs": [],
   "source": [
    "! python change_all_thumbnails_paths.py DATASET_NAME OLD_PATH NEW_PATH"
   ]
  },
  {
   "cell_type": "markdown",
   "id": "37c15e19-b4d4-4cbc-b7ef-5d09d579b523",
   "metadata": {},
   "source": [
    "### Calling `change_all_strs_and_paths`"
   ]
  },
  {
   "cell_type": "code",
   "execution_count": null,
   "id": "16695efe-bf03-49f7-99b7-8bf9a6f6ddf6",
   "metadata": {},
   "outputs": [],
   "source": [
    "from change_all_strs_and_paths import change_all_strs_and_paths\n",
    "\n",
    "dataset_name = \"MY_DATASET_NAME\"\n",
    "old_path = \"/home/local_images/tmp/thumbnails\"\n",
    "new_path =\"/home/local_images/MYPROJECT/thumbnails\"\n",
    "thumbnail_attribute =\"thumbnail_path\"\n",
    "\n",
    "change_all_strs_and_paths(dataset_name, old_path, new_path, str_or_path_attribute=thumbnail_attribute)"
   ]
  }
 ],
 "metadata": {
  "kernelspec": {
   "display_name": "Python 3 (ipykernel)",
   "language": "python",
   "name": "python3"
  },
  "language_info": {
   "codemirror_mode": {
    "name": "ipython",
    "version": 3
   },
   "file_extension": ".py",
   "mimetype": "text/x-python",
   "name": "python",
   "nbconvert_exporter": "python",
   "pygments_lexer": "ipython3",
   "version": "3.11.13"
  }
 },
 "nbformat": 4,
 "nbformat_minor": 5
}
