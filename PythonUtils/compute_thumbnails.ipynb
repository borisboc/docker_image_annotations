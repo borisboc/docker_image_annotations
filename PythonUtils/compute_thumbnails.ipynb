{
 "cells": [
  {
   "cell_type": "markdown",
   "id": "59580e55",
   "metadata": {},
   "source": [
    "# Compute thumbnails"
   ]
  },
  {
   "cell_type": "markdown",
   "id": "5dcc337f",
   "metadata": {},
   "source": [
    "Precompute thumbnails of the images of a dataset. And save thumbnails to an output directory. \n",
    "This is based on [fiftyone blog article](https://voxel51.com/blog/fiftyone-computer-vision-tips-and-tricks-may-19-2023#f3156044d03a)."
   ]
  },
  {
   "cell_type": "code",
   "execution_count": 2,
   "id": "9a8588fa",
   "metadata": {},
   "outputs": [],
   "source": [
    "from compute_thumbnails import compute_thumbnails\n",
    "from pathlib import Path"
   ]
  },
  {
   "cell_type": "code",
   "execution_count": null,
   "id": "d3d582fc",
   "metadata": {},
   "outputs": [
    {
     "name": "stdout",
     "output_type": "stream",
     "text": [
      "About to generate 53 thumbnails to folder /home/local_images/tmp/thumbnails\n",
      " 100% |███████████████████| 53/53 [202.2ms elapsed, 0s remaining, 262.1 samples/s] \n",
      "Generated 53 thumbnails to folder /home/local_images/tmp/thumbnails\n"
     ]
    }
   ],
   "source": [
    "dataset_name = \"YourDatasetName\"\n",
    "output_dir_for_thumbnails = Path(\"/home/local_images/tmp/thumbnails\")\n",
    "rel_dir = \"/home/local_images\" # you can set rel_dir to None, but if you want the output thumbnails to have the same sub-folder structure as your image, please provide the path to trunk folder containing your images  \n",
    "skip_if_has_thumbnail = False # True : select samples which DON'T have 'thumbnail_path' attribute. If false, all samples will be processed (and 'thumbnail_path' will be overwritten)\n",
    "size = (-1, 128) # Size of the thumbnail. Put -1 to one dimension if you want to keep ratio\n",
    "ext = \"*.jpg\" # Extension / file format of the thumbnail.\n",
    "compute_thumbnails(\n",
    "    dataset_name,\n",
    "    output_dir_for_thumbnails,\n",
    "    rel_dir,\n",
    "    skip_if_has_thumbnail,\n",
    "    size,\n",
    "    ext,\n",
    ")"
   ]
  }
 ],
 "metadata": {
  "kernelspec": {
   "display_name": "Python 3 (ipykernel)",
   "language": "python",
   "name": "python3"
  },
  "language_info": {
   "codemirror_mode": {
    "name": "ipython",
    "version": 3
   },
   "file_extension": ".py",
   "mimetype": "text/x-python",
   "name": "python",
   "nbconvert_exporter": "python",
   "pygments_lexer": "ipython3",
   "version": "3.11.13"
  }
 },
 "nbformat": 4,
 "nbformat_minor": 5
}
