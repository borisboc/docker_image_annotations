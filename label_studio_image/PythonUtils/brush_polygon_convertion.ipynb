{
 "cells": [
  {
   "cell_type": "markdown",
   "metadata": {},
   "source": [
    "# Convert brush annotations to polygon predictions in Label Studio"
   ]
  },
  {
   "cell_type": "markdown",
   "metadata": {},
   "source": [
    "Usefull to convert these brush annotations into polygons. For instance, SAM 2 will return you brush labels, but you may want polygons instead. \n",
    "Rather than generating annotations, it generates predictions. Then you can copy the predictions on label studio web app to turn them into annotations."
   ]
  },
  {
   "cell_type": "code",
   "execution_count": null,
   "metadata": {
    "vscode": {
     "languageId": "plaintext"
    }
   },
   "outputs": [],
   "source": [
    "from utils import connect_labelstudio_client, projects_ids_and_titles, project_id_from_title\n",
    "from brush_polygon_convertion import all_brush_annotations_to_polygon_prediction"
   ]
  },
  {
   "cell_type": "code",
   "execution_count": null,
   "metadata": {},
   "outputs": [],
   "source": [
    "PROJECT_TITLE = \"Your project name\" #set the name of your project here\n",
    "POLYGON_LABEL = \"The label from the PolygonLabels\" #set the label name of polygons that will be generated as prediction\n",
    "ls = connect_labelstudio_client()\n",
    "PROJECT_ID = project_id_from_title(ls, PROJECT_TITLE)\n",
    "print(f\"Working on project {PROJECT_TITLE}, which has id {PROJECT_ID}\")"
   ]
  },
  {
   "cell_type": "code",
   "execution_count": null,
   "metadata": {},
   "outputs": [],
   "source": [
    "all_brush_annotations_to_polygon_prediction(ls, PROJECT_ID, POLYGON_LABEL)"
   ]
  }
 ],
 "metadata": {
  "kernelspec": {
   "display_name": "Python 3 (ipykernel)",
   "language": "python",
   "name": "python3"
  },
  "language_info": {
   "codemirror_mode": {
    "name": "ipython",
    "version": 3
   },
   "file_extension": ".py",
   "mimetype": "text/x-python",
   "name": "python",
   "nbconvert_exporter": "python",
   "pygments_lexer": "ipython3",
   "version": "3.12.8"
  }
 },
 "nbformat": 4,
 "nbformat_minor": 4
}
