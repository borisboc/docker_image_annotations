{
 "cells": [
  {
   "cell_type": "markdown",
   "id": "47463b9f-32c0-4481-a1bc-e3bfe3b989d3",
   "metadata": {},
   "source": [
    "# Merge the image id duplicates in exported COCO file\n",
    "\n",
    "If you have several annotations for the same image file, the export to coco from label studio will create several \"image\" items with different id and same file path. This is conceptually fine, but it creates error in FiftyOne when you import the coco json file (error like `fiftyone duplicate key error collection index: filepath_1 dup key: { filepath:`).\n",
    "\n",
    "This code resolve this issue"
   ]
  },
  {
   "cell_type": "code",
   "execution_count": 2,
   "id": "809edffa-df04-4cc9-b03a-cb330c4a5da0",
   "metadata": {},
   "outputs": [],
   "source": [
    "from coco_utils import merge_image_duplicates\n",
    "from pathlib import Path"
   ]
  },
  {
   "cell_type": "code",
   "execution_count": 8,
   "id": "0f71dd65-859d-4128-8d5c-ef3a557a5e0f",
   "metadata": {},
   "outputs": [],
   "source": [
    "coco_file = Path(\"Path/to/labelstudio/exported/coco/result.json\")\n",
    "coco_json, cleaned_coco_json = merge_image_duplicates(coco_file, Path(\"coco_cleaned.json\"))"
   ]
  }
 ],
 "metadata": {
  "kernelspec": {
   "display_name": "Python 3 (ipykernel)",
   "language": "python",
   "name": "python3"
  },
  "language_info": {
   "codemirror_mode": {
    "name": "ipython",
    "version": 3
   },
   "file_extension": ".py",
   "mimetype": "text/x-python",
   "name": "python",
   "nbconvert_exporter": "python",
   "pygments_lexer": "ipython3",
   "version": "3.12.8"
  }
 },
 "nbformat": 4,
 "nbformat_minor": 5
}
